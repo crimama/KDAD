{
 "cells": [
  {
   "cell_type": "markdown",
   "id": "39b86bb9-f061-4c35-a902-a89e9252ad1b",
   "metadata": {},
   "source": [
    "# Fullshot"
   ]
  },
  {
   "cell_type": "code",
   "execution_count": 37,
   "id": "9e97afa8-c292-4819-bc53-618da28c0ab9",
   "metadata": {},
   "outputs": [],
   "source": [
    "from glob import glob \n",
    "import pandas as pd \n",
    "import numpy as np \n",
    "import os \n",
    "\n",
    "root   = '../../Dataset/MVtecAD'\n",
    "Object = pd.Series(glob(os.path.join(root,'*/'))).apply(lambda x : x.split('/')[-2]).values\n",
    "phase  = ['train','test','ground_truth']\n",
    "\n",
    "img_dir_list = [] \n",
    "\n",
    "for obj in Object:\n",
    "    for phs in phase:\n",
    "        if phs == 'train':\n",
    "            img_dirs = sorted(glob(os.path.join(root,obj,phs,'good','*.png')))\n",
    "            img_dir_list.extend(img_dirs)\n",
    "        if phs == 'test':\n",
    "            for test_type in sorted(glob(os.path.join(root,obj,phase[1],'*/'))):\n",
    "                img_dirs = sorted(glob(os.path.join(test_type,'*')))\n",
    "                img_dir_list.extend(img_dirs)\n",
    "\n",
    "\n",
    "df = pd.DataFrame(img_dir_list)\n",
    "df.columns = ['image']\n",
    "df['object'] = df['image'].apply(lambda x : x.split('/')[4])\n",
    "df['split'] = df['image'].apply(lambda x : x.split('/')[5])\n",
    "df['label'] = df['image'].apply(lambda x : x.split('/')[6])\n",
    "df['mask'] = ''\n",
    "gt_dirs = df[df['split'] == 'test']['image'].apply(lambda x : x.replace('test','ground_truth').replace('.png','_mask.png'))\n",
    "gt_index = gt_dirs.index\n",
    "df.loc[gt_index,'mask'] = gt_dirs\n",
    "df['image'] = df['image'].apply(lambda x : x.split('MVtecAD')[-1][1:])\n",
    "df['mask'] = df['mask'].apply(lambda x : x.split('MVtecAD')[-1][1:])\n",
    "df.loc[(df['split']=='test') & (df['label']=='good'),'mask'] = ''\n",
    "df['label1'] = df['label']\n",
    "df['label'] = df['label'].apply(lambda x : 'normal' if x =='good' else 'anomaly')\n",
    "df = df[['object','split','label','image','mask','label1']]\n",
    "df.to_csv('./split_csv/1cls.csv',index=False)"
   ]
  },
  {
   "cell_type": "markdown",
   "id": "27de5dff-fb4c-4b63-832c-e22dff2b412a",
   "metadata": {},
   "source": [
    "# Fewshot "
   ]
  },
  {
   "cell_type": "code",
   "execution_count": 45,
   "id": "aae5825c-bb90-4a55-a2d2-e7806dd9b29e",
   "metadata": {},
   "outputs": [],
   "source": [
    "\n",
    "def make_fewshot(df,shot_ratio=0.8):\n",
    "    Objects = np.unique(df['object'])\n",
    "    for obj in Objects:\n",
    "\n",
    "        #before \n",
    "        train_normal_idx = df.loc[(df['split']=='train')&(df['object']==obj)].index\n",
    "        test_normal_idx = df.loc[(df['split']=='test')&(df['object']==obj)&(df['label']=='normal')].index\n",
    "        anomaly_idx = df.loc[(df['split']=='test')&(df['object']==obj)&(df['label']=='anomaly')].index\n",
    "        normal_idx = np.append(train_normal_idx,test_normal_idx)\n",
    "        #after\n",
    "        ##normal \n",
    "        test_normal_idx = np.random.choice(normal_idx,int(len(normal_idx)*shot_ratio),replace=False)\n",
    "        train_normal_idx = pd.Series(normal_idx)[pd.Series(normal_idx).apply(lambda x : x not in test_normal_idx)].values    \n",
    "        ##anomaly \n",
    "        test_anomaly_idx = np.random.choice(anomaly_idx,int(len(anomaly_idx)*shot_ratio),replace=False)\n",
    "        train_anomaly_idx = pd.Series(anomaly_idx)[pd.Series(anomaly_idx).apply(lambda x : x not in test_anomaly_idx)].values    \n",
    "        \n",
    "        df.loc[test_normal_idx,'split'] = 'test'\n",
    "        df.loc[test_normal_idx,'label'] = 'normal'\n",
    "\n",
    "        df.loc[train_normal_idx,'split'] = 'train'\n",
    "        df.loc[train_normal_idx,'label'] = 'normal'\n",
    "\n",
    "        df.loc[test_anomaly_idx,'split'] = 'test'\n",
    "        df.loc[test_anomaly_idx,'label'] = 'anomaly'\n",
    "\n",
    "        df.loc[train_anomaly_idx,'split'] = 'train'\n",
    "        df.loc[train_anomaly_idx,'label'] = 'anomaly'\n",
    "    return df \n",
    "\n",
    "df = pd.read_csv('./split_csv/1cls.csv')\n",
    "\n",
    "adf = make_fewshot(df,0.8)\n",
    "adf.to_csv('./split_csv/2cls_fewshot.csv',index=False)"
   ]
  },
  {
   "cell_type": "markdown",
   "id": "bf593328-9bfb-4aaf-9b76-223dabf4ac9a",
   "metadata": {},
   "source": [
    "# Highshot "
   ]
  },
  {
   "cell_type": "code",
   "execution_count": 44,
   "id": "9c3f1185-de40-4b0a-b869-b612ef39cfe7",
   "metadata": {},
   "outputs": [],
   "source": [
    "\n",
    "def make_fewshot(df,shot_ratio=0.8):\n",
    "    Objects = np.unique(df['object'])\n",
    "    for obj in Objects:\n",
    "\n",
    "        #before \n",
    "        train_normal_idx = df.loc[(df['split']=='train')&(df['object']==obj)].index\n",
    "        test_normal_idx = df.loc[(df['split']=='test')&(df['object']==obj)&(df['label']=='normal')].index\n",
    "        anomaly_idx = df.loc[(df['split']=='test')&(df['object']==obj)&(df['label']=='anomaly')].index\n",
    "        normal_idx = np.append(train_normal_idx,test_normal_idx)\n",
    "        #after\n",
    "        ##normal \n",
    "        test_normal_idx = np.random.choice(normal_idx,int(len(normal_idx)*shot_ratio),replace=False)\n",
    "        train_normal_idx = pd.Series(normal_idx)[pd.Series(normal_idx).apply(lambda x : x not in test_normal_idx)].values    \n",
    "        ##anomaly \n",
    "        test_anomaly_idx = np.random.choice(anomaly_idx,int(len(anomaly_idx)*shot_ratio),replace=False)\n",
    "        train_anomaly_idx = pd.Series(anomaly_idx)[pd.Series(anomaly_idx).apply(lambda x : x not in test_anomaly_idx)].values    \n",
    "        \n",
    "        df.loc[test_normal_idx,'split'] = 'test'\n",
    "        df.loc[test_normal_idx,'label'] = 'normal'\n",
    "\n",
    "        df.loc[train_normal_idx,'split'] = 'train'\n",
    "        df.loc[train_normal_idx,'label'] = 'normal'\n",
    "\n",
    "        df.loc[test_anomaly_idx,'split'] = 'test'\n",
    "        df.loc[test_anomaly_idx,'label'] = 'anomaly'\n",
    "\n",
    "        df.loc[train_anomaly_idx,'split'] = 'train'\n",
    "        df.loc[train_anomaly_idx,'label'] = 'anomaly'\n",
    "    return df \n",
    "\n",
    "df = pd.read_csv('./split_csv/1cls.csv')\n",
    "\n",
    "adf = make_fewshot(df,0.4)\n",
    "adf.to_csv('./split_csv/2cls_highshot.csv',index=False)"
   ]
  },
  {
   "cell_type": "code",
   "execution_count": 1,
   "id": "57ea1d0a-11fc-4568-a86e-ebbe94d242e2",
   "metadata": {},
   "outputs": [],
   "source": [
    "import pandas as pd "
   ]
  },
  {
   "cell_type": "code",
   "execution_count": 43,
   "id": "def02997-e60c-4798-b17d-bf150cfd65fc",
   "metadata": {},
   "outputs": [],
   "source": [
    "df = pd.read_csv('../ViSA/split_csv/1cls.csv')"
   ]
  },
  {
   "cell_type": "code",
   "execution_count": 45,
   "id": "9441cd61-801e-42b2-83ba-8c7c55389d16",
   "metadata": {},
   "outputs": [
    {
     "data": {
      "text/plain": [
       "normal    900\n",
       "Name: label, dtype: int64"
      ]
     },
     "execution_count": 45,
     "metadata": {},
     "output_type": "execute_result"
    }
   ],
   "source": [
    "df[(df['object']=='candle')&(df['split']=='train')]['label'].value_counts()"
   ]
  },
  {
   "cell_type": "code",
   "execution_count": 11,
   "id": "eec9a0fa-2f69-4ae1-813c-09127bfcbe0f",
   "metadata": {},
   "outputs": [
    {
     "data": {
      "text/plain": [
       "normal    3629\n",
       "Name: label, dtype: int64"
      ]
     },
     "execution_count": 11,
     "metadata": {},
     "output_type": "execute_result"
    }
   ],
   "source": [
    "df[df['split']=='train']['label'].value_counts()"
   ]
  }
 ],
 "metadata": {
  "kernelspec": {
   "display_name": "Python 3 (ipykernel)",
   "language": "python",
   "name": "python3"
  },
  "language_info": {
   "codemirror_mode": {
    "name": "ipython",
    "version": 3
   },
   "file_extension": ".py",
   "mimetype": "text/x-python",
   "name": "python",
   "nbconvert_exporter": "python",
   "pygments_lexer": "ipython3",
   "version": "3.8.10"
  }
 },
 "nbformat": 4,
 "nbformat_minor": 5
}
