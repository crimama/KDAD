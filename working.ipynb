{
 "cells": [
  {
   "cell_type": "markdown",
   "metadata": {},
   "source": [
    "# Train "
   ]
  },
  {
   "cell_type": "code",
   "execution_count": 1,
   "metadata": {},
   "outputs": [
    {
     "name": "stderr",
     "output_type": "stream",
     "text": [
      "/usr/local/lib/python3.8/dist-packages/tqdm/auto.py:22: TqdmWarning: IProgress not found. Please update jupyter and ipywidgets. See https://ipywidgets.readthedocs.io/en/stable/user_install.html\n",
      "  from .autonotebook import tqdm as notebook_tqdm\n"
     ]
    }
   ],
   "source": [
    "from src.dataset import CustomDataset\n",
    "from src.models.resnet import resnet18, resnet34, resnet50, wide_resnet50_2\n",
    "from src.models.de_resnet import de_resnet18, de_resnet34, de_wide_resnet50_2, de_resnet50\n",
    "from test import evaluation\n",
    "from torch.utils.data import DataLoader,DataLoader2\n",
    "import torch.nn as nn \n",
    "import torch.nn.functional as F \n",
    "import torch \n",
    "import torchvision.transforms as transforms \n",
    "import yaml \n",
    "from tqdm.auto import tqdm \n",
    "import numpy as np \n",
    "import random \n",
    "from tqdm import tqdm \n",
    "\n",
    "def setup_seed(seed):\n",
    "    torch.manual_seed(seed)\n",
    "    torch.cuda.manual_seed_all(seed)\n",
    "    np.random.seed(seed)\n",
    "    random.seed(seed)\n",
    "    torch.backends.cudnn.deterministic = True\n",
    "    torch.backends.cudnn.benchmark = False\n",
    "\n",
    "def loss_function(a, b):\n",
    "    #mse_loss = torch.nn.MSELoss()\n",
    "    cos_loss = torch.nn.CosineSimilarity()\n",
    "    loss = 0\n",
    "    for item in range(len(a)):\n",
    "        #print(a[item].shape)\n",
    "        #print(b[item].shape)\n",
    "        #loss += 0.1*mse_loss(a[item], b[item])\n",
    "        loss += torch.mean(1-cos_loss(a[item].view(a[item].shape[0],-1),\n",
    "                                      b[item].view(b[item].shape[0],-1)))\n",
    "    return loss\n",
    "\n",
    "def loss_concat(a, b):\n",
    "    mse_loss = torch.nn.MSELoss()\n",
    "    cos_loss = torch.nn.CosineSimilarity()\n",
    "    loss = 0\n",
    "    a_map = []\n",
    "    b_map = []\n",
    "    size = a[0].shape[-1]\n",
    "    for item in range(len(a)):\n",
    "        #loss += mse_loss(a[item], b[item])\n",
    "        a_map.append(F.interpolate(a[item], size=size, mode='bilinear', align_corners=True))\n",
    "        b_map.append(F.interpolate(b[item], size=size, mode='bilinear', align_corners=True))\n",
    "    a_map = torch.cat(a_map,1)\n",
    "    b_map = torch.cat(b_map,1)\n",
    "    loss += torch.mean(1-cos_loss(a_map,b_map))\n",
    "    return \n",
    "\n",
    "\n",
    "#def run \n",
    "cfg = yaml.load(open('./configs/mvtec.yaml','r'), Loader=yaml.FullLoader)\n",
    "setup_seed(cfg['TRAIN']['seed'])\n",
    "device = cfg['TRAIN']['device']\n",
    "trainloader = DataLoader(\n",
    "                dataset = CustomDataset(\n",
    "                                        root          = cfg['DATA']['datadir'],\n",
    "                                        img_size      = cfg['DATA']['imgsize'],\n",
    "                                        transform     = transforms.Compose([transforms.ToTensor()]),\n",
    "                                        img_cls       = cfg['DATA']['imgcls'],\n",
    "                                        mode          = cfg['DATA']['mode'],\n",
    "                                        train         = True \n",
    "                                        ),\n",
    "                batch_size = cfg['TRAIN']['batchsize'], \n",
    "                shuffle    = True\n",
    "                )\n",
    "                    \n",
    "testloader = DataLoader(\n",
    "                dataset = CustomDataset(\n",
    "                                        root          = cfg['DATA']['datadir'],\n",
    "                                        img_size      = cfg['DATA']['imgsize'],\n",
    "                                        transform     = transforms.Compose([transforms.ToTensor()]),\n",
    "                                        img_cls       = cfg['DATA']['imgcls'],\n",
    "                                        mode          = cfg['DATA']['mode'],\n",
    "                                        train         = False\n",
    "                                        ),\n",
    "                #batch_size = cfg['TRAIN']['batchsize'], \n",
    "                batch_size = 1,\n",
    "                shuffle    = False\n",
    "                )\n",
    "\n",
    "encoder,bn = resnet34(pretrained=True)\n",
    "encoder,bn = encoder.to(device), bn.to(device)\n",
    "encoder.eval()\n",
    "decoder = de_resnet34(pretrained=False)\n",
    "decoder = decoder.to(device)\n",
    "optimizer = torch.optim.Adam(list(decoder.parameters()) + list(bn.parameters()),lr = cfg['TRAIN']['lr'],betas=(0.5,0.999))\n",
    "\n",
    "#train \n",
    "best = 0 \n",
    "for epoch in tqdm(range(cfg['TRAIN']['epochs'])):\n",
    "    bn.train()\n",
    "    decoder.train()\n",
    "    loss_list = [] \n",
    "    for batch_imgs,_,batch_labels in trainloader:\n",
    "        batch_imgs = batch_imgs.to(device)\n",
    "        inputs = encoder(batch_imgs)\n",
    "        outputs = decoder(bn(inputs))\n",
    "        loss = loss_function(inputs,outputs)\n",
    "        \n",
    "        optimizer.zero_grad()\n",
    "        loss.backward()\n",
    "        optimizer.step()\n",
    "        loss_list.append(loss.item())\n",
    "    print('epoch [{}/{}], loss:{:.4f}'.format(epoch + 1,cfg['TRAIN']['epochs'] , np.mean(loss_list)))\n",
    "    \n",
    "    if (epoch +1) % 2 == 0:\n",
    "        auroc_px, auroc_sp, aupro_px = evaluation(encoder, bn, decoder, testloader, device)\n",
    "        print('Pixel Auroc:{:.3f}, Sample Auroc{:.3f}, Pixel Aupro{:.3}'.format(auroc_px, auroc_sp, aupro_px))\n",
    "        \n",
    "        if auroc_px > best:\n",
    "            torch.save(decoder,'./save_models/best_decoder.pt')\n",
    "            torch.save(bn,'./save_models/best_bn.pt')\n",
    "            best = auroc_px\n",
    "        \n",
    "torch.save(decoder,'./save_models/last_encoder.pt')\n",
    "torch.save(bn,'./save_models/last_bn.pt')\n"
   ]
  },
  {
   "cell_type": "code",
   "execution_count": 1,
   "metadata": {},
   "outputs": [],
   "source": [
    "import yaml \n",
    "import os \n",
    "cfg = yaml.load(open('./configs/mvtec_cable.yaml','r'), Loader=yaml.FullLoader)"
   ]
  },
  {
   "cell_type": "code",
   "execution_count": null,
   "metadata": {},
   "outputs": [],
   "source": [
    "save_models/mvtec_bottle"
   ]
  },
  {
   "cell_type": "code",
   "execution_count": 3,
   "metadata": {},
   "outputs": [
    {
     "data": {
      "text/plain": [
       "'./save_models/MVtecAD/cable'"
      ]
     },
     "execution_count": 3,
     "metadata": {},
     "output_type": "execute_result"
    }
   ],
   "source": [
    "savedir = os.path.join(cfg['SAVE']['savedir'],cfg['DATA']['dataset'],cfg['DATA']['imgcls'])\n",
    "savedir"
   ]
  },
  {
   "cell_type": "code",
   "execution_count": 4,
   "metadata": {},
   "outputs": [],
   "source": [
    "os.mkdir(savedir)"
   ]
  },
  {
   "cell_type": "markdown",
   "metadata": {},
   "source": [
    "# Evaluate "
   ]
  },
  {
   "cell_type": "code",
   "execution_count": 3,
   "metadata": {},
   "outputs": [],
   "source": [
    "bn = torch.load('./save_models/best_bn.pt').to(device)\n",
    "decoder = torch.load('./save_models/best_decoder.pt').to(device)"
   ]
  }
 ],
 "metadata": {
  "kernelspec": {
   "display_name": "Python 3 (ipykernel)",
   "language": "python",
   "name": "python3"
  },
  "language_info": {
   "codemirror_mode": {
    "name": "ipython",
    "version": 3
   },
   "file_extension": ".py",
   "mimetype": "text/x-python",
   "name": "python",
   "nbconvert_exporter": "python",
   "pygments_lexer": "ipython3",
   "version": "3.8.10"
  },
  "orig_nbformat": 4
 },
 "nbformat": 4,
 "nbformat_minor": 2
}
